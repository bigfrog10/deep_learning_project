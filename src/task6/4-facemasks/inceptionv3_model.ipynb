{
 "cells": [
  {
   "cell_type": "code",
   "id": "initial_id",
   "metadata": {
    "collapsed": true,
    "ExecuteTime": {
     "end_time": "2024-08-19T21:31:47.721744Z",
     "start_time": "2024-08-19T21:31:44.087603Z"
    }
   },
   "source": [
    "# data from: https://www.kaggle.com/datasets/bahadoreizadkhah/face-mask-types-dataset/code\n",
    "# reference: https://www.kaggle.com/code/umarmasud/facemask-detection-inceptionv3\n",
    "\n",
    "import numpy as np\n",
    "import tensorflow as tf\n",
    "from tensorflow.keras.layers import Dense, Flatten, GlobalAveragePooling2D\n",
    "from tensorflow.keras import models\n",
    "from sklearn.metrics import classification_report, confusion_matrix\n",
    "import pathlib"
   ],
   "outputs": [],
   "execution_count": 2
  },
  {
   "metadata": {
    "ExecuteTime": {
     "end_time": "2024-08-19T21:31:48.860276Z",
     "start_time": "2024-08-19T21:31:48.856805Z"
    }
   },
   "cell_type": "code",
   "source": [
    "data_train = pathlib.Path('./Dataset/train')\n",
    "data_test = pathlib.Path('./Dataset/test')\n",
    "\n",
    "INPUT_SIZE = [300, 300]\n",
    "BATCH = 6"
   ],
   "id": "e66e036fa035ea63",
   "outputs": [],
   "execution_count": 3
  },
  {
   "metadata": {
    "ExecuteTime": {
     "end_time": "2024-08-19T21:31:50.078444Z",
     "start_time": "2024-08-19T21:31:49.907859Z"
    }
   },
   "cell_type": "code",
   "source": [
    "training_datagen = tf.keras.preprocessing.image.ImageDataGenerator(\n",
    "    rotation_range=20,\n",
    "    zoom_range=0.2,\n",
    "    width_shift_range=0.2,\n",
    "    height_shift_range=0.2,\n",
    "    shear_range=0.2,\n",
    "    horizontal_flip=True,\n",
    "    fill_mode=\"nearest\",\n",
    "    validation_split=0.0,\n",
    "    rescale=1./255\n",
    ")\n",
    "\n",
    "training_data = training_datagen.flow_from_directory('./Dataset/train',\n",
    "                                                     subset=\"training\",\n",
    "                                                     shuffle=True,\n",
    "                                                     target_size=INPUT_SIZE,\n",
    "                                                     batch_size=BATCH,\n",
    "                                                     color_mode=\"rgb\",\n",
    "                                                     class_mode='categorical')\n",
    "\n",
    "test_datagen = tf.keras.preprocessing.image.ImageDataGenerator(rescale=1./255)\n",
    "\n",
    "test_data = test_datagen.flow_from_directory('./Dataset/test',\n",
    "                                             target_size=INPUT_SIZE,\n",
    "                                             color_mode=\"rgb\",\n",
    "                                             batch_size=BATCH,\n",
    "                                             class_mode='categorical',\n",
    "                                             shuffle=False)\n",
    "\n",
    "# display dimensions\n",
    "x_test, y_test = next(test_data)\n",
    "x_train, y_train = next(training_data)"
   ],
   "id": "451f2e643cf3c9ea",
   "outputs": [
    {
     "name": "stdout",
     "output_type": "stream",
     "text": [
      "Found 1956 images belonging to 5 classes.\n",
      "Found 330 images belonging to 5 classes.\n"
     ]
    }
   ],
   "execution_count": 4
  },
  {
   "metadata": {
    "ExecuteTime": {
     "end_time": "2024-08-20T15:02:30.694842Z",
     "start_time": "2024-08-20T15:02:30.536161Z"
    }
   },
   "cell_type": "code",
   "source": [
    "inceptionv3_model = tf.keras.applications.InceptionV3(input_shape=(300, 300,3), include_top=False, weights='imagenet')\n",
    "inceptionv3_model.trainable = True\n",
    "\n",
    "fine_tune_at = 100\n",
    "for layer in inceptionv3_model.layers[:fine_tune_at]:\n",
    "    layer.trainable =  False\n",
    "\n",
    "inceptionv3_model.summary()"
   ],
   "id": "7026dc950cb5bc48",
   "outputs": [
    {
     "ename": "NameError",
     "evalue": "name 'tf' is not defined",
     "output_type": "error",
     "traceback": [
      "\u001B[0;31m---------------------------------------------------------------------------\u001B[0m",
      "\u001B[0;31mNameError\u001B[0m                                 Traceback (most recent call last)",
      "Cell \u001B[0;32mIn[1], line 1\u001B[0m\n\u001B[0;32m----> 1\u001B[0m inceptionv3_model \u001B[38;5;241m=\u001B[39m \u001B[43mtf\u001B[49m\u001B[38;5;241m.\u001B[39mkeras\u001B[38;5;241m.\u001B[39mapplications\u001B[38;5;241m.\u001B[39mInceptionV3(input_shape\u001B[38;5;241m=\u001B[39m(\u001B[38;5;241m300\u001B[39m, \u001B[38;5;241m300\u001B[39m,\u001B[38;5;241m3\u001B[39m), include_top\u001B[38;5;241m=\u001B[39m\u001B[38;5;28;01mFalse\u001B[39;00m, weights\u001B[38;5;241m=\u001B[39m\u001B[38;5;124m'\u001B[39m\u001B[38;5;124mimagenet\u001B[39m\u001B[38;5;124m'\u001B[39m)\n\u001B[1;32m      2\u001B[0m inceptionv3_model\u001B[38;5;241m.\u001B[39mtrainable \u001B[38;5;241m=\u001B[39m \u001B[38;5;28;01mTrue\u001B[39;00m\n\u001B[1;32m      4\u001B[0m fine_tune_at \u001B[38;5;241m=\u001B[39m \u001B[38;5;241m100\u001B[39m\n",
      "\u001B[0;31mNameError\u001B[0m: name 'tf' is not defined"
     ]
    }
   ],
   "execution_count": 1
  },
  {
   "metadata": {},
   "cell_type": "code",
   "outputs": [],
   "execution_count": 23,
   "source": [
    "model = models.Sequential([# Lambda(lambda x: x, input_shape=(300, 300, 3)), \n",
    "    tf.keras.layers.InputLayer((300, 300, 3)),\n",
    "    inceptionv3_model,\n",
    "    GlobalAveragePooling2D(),\n",
    "    tf.keras.layers.Dropout(0.2),\n",
    "    Flatten(),\n",
    "    Dense(5, activation='softmax')])"
   ],
   "id": "4164b6b825adb212"
  },
  {
   "metadata": {
    "ExecuteTime": {
     "end_time": "2024-08-19T23:24:41.725826Z",
     "start_time": "2024-08-19T23:10:16.618820Z"
    }
   },
   "cell_type": "code",
   "source": [
    "model.compile(\n",
    "    loss='categorical_crossentropy',\n",
    "    optimizer='adam',\n",
    "    metrics=['accuracy']\n",
    ")\n",
    "#  optimizer=tf.keras.optimizers.SGD(learning_rate=0.01)\n",
    "\n",
    "history = model.fit(\n",
    "    training_data,\n",
    "    validation_data=test_data,\n",
    "    epochs=5,\n",
    "    # batch_size=BATCH,\n",
    "    # steps_per_epoch=len(training_data),\n",
    "    # validation_steps=len(test_data)\n",
    ")"
   ],
   "id": "8b71ef0efacdf303",
   "outputs": [
    {
     "name": "stdout",
     "output_type": "stream",
     "text": [
      "Epoch 1/5\n",
      "\u001B[1m326/326\u001B[0m \u001B[32m━━━━━━━━━━━━━━━━━━━━\u001B[0m\u001B[37m\u001B[0m \u001B[1m196s\u001B[0m 568ms/step - accuracy: 0.5609 - loss: 1.1593 - val_accuracy: 0.4697 - val_loss: 5.8432\n",
      "Epoch 2/5\n",
      "\u001B[1m326/326\u001B[0m \u001B[32m━━━━━━━━━━━━━━━━━━━━\u001B[0m\u001B[37m\u001B[0m \u001B[1m174s\u001B[0m 533ms/step - accuracy: 0.7796 - loss: 0.6311 - val_accuracy: 0.8303 - val_loss: 0.8201\n",
      "Epoch 3/5\n",
      "\u001B[1m326/326\u001B[0m \u001B[32m━━━━━━━━━━━━━━━━━━━━\u001B[0m\u001B[37m\u001B[0m \u001B[1m171s\u001B[0m 523ms/step - accuracy: 0.8246 - loss: 0.5311 - val_accuracy: 0.7152 - val_loss: 0.9631\n",
      "Epoch 4/5\n",
      "\u001B[1m326/326\u001B[0m \u001B[32m━━━━━━━━━━━━━━━━━━━━\u001B[0m\u001B[37m\u001B[0m \u001B[1m166s\u001B[0m 509ms/step - accuracy: 0.8748 - loss: 0.3687 - val_accuracy: 0.7697 - val_loss: 0.8348\n",
      "Epoch 5/5\n",
      "\u001B[1m326/326\u001B[0m \u001B[32m━━━━━━━━━━━━━━━━━━━━\u001B[0m\u001B[37m\u001B[0m \u001B[1m157s\u001B[0m 480ms/step - accuracy: 0.8957 - loss: 0.3376 - val_accuracy: 0.9364 - val_loss: 0.1900\n"
     ]
    }
   ],
   "execution_count": 24
  },
  {
   "metadata": {
    "ExecuteTime": {
     "end_time": "2024-08-19T23:59:30.346536Z",
     "start_time": "2024-08-19T23:59:08.079124Z"
    }
   },
   "cell_type": "code",
   "source": [
    "#Creacion de la matriz de confusion\n",
    "y_pred=model.predict(test_data, batch_size=BATCH)\n",
    "print(y_pred.shape)\n",
    "\n",
    "y_pred = np.argmax(y_pred, axis=1)\n",
    "print(y_pred)\n",
    "\n",
    "cm=confusion_matrix(test_data.classes, y_pred)\n",
    "print(cm)\n",
    "\n",
    "#Impresion de la exactitud\n",
    "accu = cm.astype('float') / cm.sum(axis=1)[:, np.newaxis]\n",
    "accu =accu.diagonal()\n",
    "print(accu)\n",
    "\n",
    "#Reporte de metricas\n",
    "# target_names = ['cloth', 'n95', 'n95v', 'nfm', 'srg']\n",
    "# print(classification_report(test_data.classes, y_pred, target_names=target_names, digits=4))\n",
    "\n",
    "# loss, accuracy, specificity, precision, recall = model.evaluate(test_data, verbose=0)\n",
    "loss, accuracy = model.evaluate(test_data, verbose=0)\n",
    "print(loss, accuracy)"
   ],
   "id": "f98d3010efafd12c",
   "outputs": [
    {
     "name": "stdout",
     "output_type": "stream",
     "text": [
      "\u001B[1m55/55\u001B[0m \u001B[32m━━━━━━━━━━━━━━━━━━━━\u001B[0m\u001B[37m\u001B[0m \u001B[1m11s\u001B[0m 191ms/step\n",
      "(330, 5)\n",
      "[0 0 0 0 0 0 0 0 0 0 0 0 3 0 0 0 0 0 0 0 0 0 0 0 0 4 0 0 0 0 0 0 2 0 0 1 0\n",
      " 0 2 0 0 0 0 1 0 0 0 2 0 1 0 0 1 1 0 0 1 0 0 0 0 4 0 0 0 0 0 0 0 0 0 0 0 0\n",
      " 0 0 0 0 1 1 1 1 1 1 1 1 1 1 1 1 1 1 1 1 1 1 1 1 1 1 1 1 1 1 1 1 1 1 1 1 1\n",
      " 1 1 1 2 1 1 1 1 1 1 1 1 1 1 1 1 1 2 2 2 2 2 2 2 2 2 2 2 2 2 2 2 2 2 2 3 2\n",
      " 2 2 2 2 2 2 2 2 2 2 2 2 2 2 2 1 2 2 2 2 2 2 2 2 2 2 2 2 2 1 3 3 3 3 3 3 3\n",
      " 3 3 3 3 3 3 3 3 3 3 3 3 3 3 3 3 1 3 3 3 3 3 3 3 3 3 3 3 3 3 3 3 3 3 3 3 3\n",
      " 3 3 3 3 3 3 3 3 3 3 3 3 3 3 3 3 3 3 3 3 3 3 3 3 3 3 3 3 3 3 3 3 3 4 4 4 4\n",
      " 4 4 4 4 4 4 4 1 4 4 4 4 4 4 4 1 4 4 4 4 4 4 4 4 4 4 4 4 4 4 4 4 4 4 4 4 4\n",
      " 4 4 4 4 4 4 4 4 1 4 4 4 4 4 4 4 4 1 4 4 4 4 4 4 4 4 4 4 4 4 4 4 4 4]\n",
      "[[66  6  3  1  2]\n",
      " [ 0 49  1  0  0]\n",
      " [ 0  1 47  1  0]\n",
      " [ 0  2  0 76  0]\n",
      " [ 0  4  0  0 71]]\n",
      "[0.84615385 0.98       0.95918367 0.97435897 0.94666667]\n",
      "              precision    recall  f1-score   support\n",
      "\n",
      "       cloth     1.0000    0.8462    0.9167        78\n",
      "         n95     0.7903    0.9800    0.8750        50\n",
      "        n95v     0.9216    0.9592    0.9400        49\n",
      "         nfm     0.9744    0.9744    0.9744        78\n",
      "         srg     0.9726    0.9467    0.9595        75\n",
      "\n",
      "    accuracy                         0.9364       330\n",
      "   macro avg     0.9318    0.9413    0.9331       330\n",
      "weighted avg     0.9443    0.9364    0.9372       330\n",
      "\n",
      "0.19003796577453613 0.9363636374473572\n"
     ]
    }
   ],
   "execution_count": 25
  },
  {
   "metadata": {
    "ExecuteTime": {
     "end_time": "2024-08-19T23:59:30.456707Z",
     "start_time": "2024-08-19T23:59:30.347961Z"
    }
   },
   "cell_type": "code",
   "source": [
    "# plot the loss\n",
    "import matplotlib.pyplot as plt\n",
    "\n",
    "plt.plot(history.history['loss'], label='train loss')\n",
    "plt.plot(history.history['val_loss'], label='val loss')\n",
    "plt.legend()\n",
    "plt.show()\n",
    "# plt.savefig('LossVal_loss')\n",
    "\n",
    "# plot the accuracy\n",
    "plt.plot(history.history['accuracy'], label='train acc')\n",
    "plt.plot(history.history['val_accuracy'], label='val acc')\n",
    "plt.legend()\n",
    "plt.show()\n",
    "# plt.savefig('AccVal_acc')\n",
    "import numpy as np"
   ],
   "id": "810eb48ee01c12a2",
   "outputs": [
    {
     "data": {
      "text/plain": [
       "<Figure size 640x480 with 1 Axes>"
      ],
      "image/png": "[encoded data removed]"
     },
     "metadata": {},
     "output_type": "display_data"
    },
    {
     "data": {
      "text/plain": [
       "<Figure size 640x480 with 1 Axes>"
      ],
      "image/png": "[encoded data removed]"
     },
     "metadata": {},
     "output_type": "display_data"
    }
   ],
   "execution_count": 26
  },
  {
   "metadata": {
    "ExecuteTime": {
     "end_time": "2024-08-19T23:59:37.867058Z",
     "start_time": "2024-08-19T23:59:37.054806Z"
    }
   },
   "cell_type": "code",
   "source": [
    "test_image = tf.keras.preprocessing.image.load_img(\n",
    "    './Dataset/test/n95v/1.jpg',\n",
    "    target_size=INPUT_SIZE)\n",
    "test_image = tf.keras.preprocessing.image.img_to_array(test_image)\n",
    "test_image = test_image / 255\n",
    "test_image = np.expand_dims(test_image, axis=0)\n",
    "result = model.predict(test_image)\n",
    "i = np.argmax(result[0])\n",
    "classes = training_data.class_indices.keys()\n",
    "print(classes)\n",
    "list(classes)[i]"
   ],
   "id": "70cce262e0ca4378",
   "outputs": [
    {
     "name": "stdout",
     "output_type": "stream",
     "text": [
      "\u001B[1m1/1\u001B[0m \u001B[32m━━━━━━━━━━━━━━━━━━━━\u001B[0m\u001B[37m\u001B[0m \u001B[1m1s\u001B[0m 783ms/step\n",
      "dict_keys(['cloth', 'n95', 'n95v', 'nfm', 'srg'])\n"
     ]
    },
    {
     "data": {
      "text/plain": [
       "'n95v'"
      ]
     },
     "execution_count": 27,
     "metadata": {},
     "output_type": "execute_result"
    }
   ],
   "execution_count": 27
  },
  {
   "metadata": {},
   "cell_type": "code",
   "outputs": [],
   "execution_count": null,
   "source": [
    "def plot_image(j, predictions_array, true_label, img):\n",
    "    true_label, img = true_label[j], img[j]\n",
    "    plt.grid(False)\n",
    "    plt.xticks([])\n",
    "    plt.yticks([])\n",
    "\n",
    "    plt.imshow(img, cmap=plt.cm.binary)\n",
    "\n",
    "    predicted_label = np.argmax(predictions_array)\n",
    "    if predicted_label == np.argmax(true_label):\n",
    "        color = 'blue'\n",
    "    else:\n",
    "        color = 'red'\n",
    "\n",
    "    plt.xlabel(\"{} {:2.0f}% ({})\".format(classes[predicted_label],\n",
    "                                         100*np.max(predictions_array),\n",
    "                                         classes[np.argmax(true_label)]),\n",
    "               color=color)\n",
    "\n",
    "def plot_value_array(k, predictions_array, true_label):\n",
    "    true_label = true_label[k]\n",
    "    plt.grid(False)\n",
    "    plt.xticks(range(5))\n",
    "    plt.yticks([])\n",
    "    thisplot = plt.bar(range(5), predictions_array, color=\"#777777\")\n",
    "    plt.ylim([0, 1])\n",
    "    predicted_label = np.argmax(predictions_array)\n",
    "\n",
    "    thisplot[predicted_label].set_color('red')\n",
    "    thisplot[np.argmax(true_label)].set_color('blue')\n",
    "\n",
    "i = 1\n",
    "print(classes)\n",
    "print(classes[i])\n",
    "\n",
    "plt.figure(figsize=(6,3))\n",
    "plt.subplot(1,2,1)\n",
    "plot_image(i, result, y_test, x_test)\n",
    "plt.subplot(1,2,2)\n",
    "plot_value_array(i, result[0], y_test)\n",
    "plt.show()"
   ],
   "id": "ce884fa0a210aaf1"
  }
 ],
 "metadata": {
  "kernelspec": {
   "display_name": "Python 3",
   "language": "python",
   "name": "python3"
  },
  "language_info": {
   "codemirror_mode": {
    "name": "ipython",
    "version": 2
   },
   "file_extension": ".py",
   "mimetype": "text/x-python",
   "name": "python",
   "nbconvert_exporter": "python",
   "pygments_lexer": "ipython2",
   "version": "2.7.6"
  }
 },
 "nbformat": 4,
 "nbformat_minor": 5
}
