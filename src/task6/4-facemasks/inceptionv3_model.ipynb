{
 "cells": [
  {
   "cell_type": "code",
   "id": "initial_id",
   "metadata": {
    "collapsed": true,
    "ExecuteTime": {
     "end_time": "2024-08-19T21:31:47.721744Z",
     "start_time": "2024-08-19T21:31:44.087603Z"
    }
   },
   "source": [
    "# data from: https://www.kaggle.com/datasets/bahadoreizadkhah/face-mask-types-dataset/code\n",
    "# reference: https://towardsdatascience.com/from-alexnet-to-nasnet-a-brief-history-and-introduction-of-convolutional-neural-networks-cf63bf3320e1 \n",
    "# reference: https://github.com/Alexiush/weak-causality-and-causal-disposition-in-images/blob/main/ca_cnn_sample_resnet.ipynb\n",
    "\n",
    "import numpy as np\n",
    "import tensorflow as tf\n",
    "from tensorflow.keras.layers import Dense, Flatten, GlobalAveragePooling2D\n",
    "from tensorflow.keras import backend as K\n",
    "from tensorflow.keras import models\n",
    "from sklearn.metrics import classification_report, confusion_matrix, roc_curve, auc\n",
    "import pathlib"
   ],
   "outputs": [],
   "execution_count": 2
  },
  {
   "metadata": {
    "ExecuteTime": {
     "end_time": "2024-08-19T21:31:48.860276Z",
     "start_time": "2024-08-19T21:31:48.856805Z"
    }
   },
   "cell_type": "code",
   "source": [
    "data_train = pathlib.Path('./Dataset/train')\n",
    "data_test = pathlib.Path('./Dataset/test')\n",
    "\n",
    "INPUT_SIZE = [300, 300]\n",
    "BATCH = 6"
   ],
   "id": "e66e036fa035ea63",
   "outputs": [],
   "execution_count": 3
  },
  {
   "metadata": {
    "ExecuteTime": {
     "end_time": "2024-08-19T21:31:50.078444Z",
     "start_time": "2024-08-19T21:31:49.907859Z"
    }
   },
   "cell_type": "code",
   "source": [
    "training_datagen = tf.keras.preprocessing.image.ImageDataGenerator(\n",
    "    rotation_range=20,\n",
    "    zoom_range=0.2,\n",
    "    width_shift_range=0.2,\n",
    "    height_shift_range=0.2,\n",
    "    shear_range=0.2,\n",
    "    horizontal_flip=True,\n",
    "    fill_mode=\"nearest\",\n",
    "    validation_split=0.0,\n",
    "    rescale=1./255\n",
    ")\n",
    "\n",
    "training_data = training_datagen.flow_from_directory('./Dataset/train',\n",
    "                                                     subset=\"training\",\n",
    "                                                     shuffle=True,\n",
    "                                                     target_size=INPUT_SIZE,\n",
    "                                                     batch_size=BATCH,\n",
    "                                                     color_mode=\"rgb\",\n",
    "                                                     # interpolation=\"bilinear\", \n",
    "                                                     class_mode='categorical')\n",
    "\n",
    "test_datagen = tf.keras.preprocessing.image.ImageDataGenerator(rescale=1./255)\n",
    "\n",
    "test_data = test_datagen.flow_from_directory('./Dataset/test',\n",
    "                                             target_size=INPUT_SIZE,\n",
    "                                             color_mode=\"rgb\",\n",
    "                                             batch_size=BATCH,\n",
    "                                             class_mode='categorical',\n",
    "                                             shuffle=False)\n",
    "\n",
    "x_test, y_test = next(test_data)\n",
    "x_train, y_train = next(training_data)"
   ],
   "id": "451f2e643cf3c9ea",
   "outputs": [
    {
     "name": "stdout",
     "output_type": "stream",
     "text": [
      "Found 1956 images belonging to 5 classes.\n",
      "Found 330 images belonging to 5 classes.\n"
     ]
    }
   ],
   "execution_count": 4
  },
  {
   "metadata": {
    "ExecuteTime": {
     "end_time": "2024-08-19T21:31:54.770846Z",
     "start_time": "2024-08-19T21:31:53.521538Z"
    }
   },
   "cell_type": "code",
   "source": [
    "# vgg model\n",
    "inceptionv3_model = tf.keras.applications.InceptionV3(input_shape=(300, 300, 3), include_top=False, weights='imagenet')\n",
    "\n",
    "inceptionv3_model.trainable = True\n",
    "\n",
    "fine_tune_at = 100\n",
    "for layer in inceptionv3_model.layers[:fine_tune_at]:\n",
    "    layer.trainable =  False\n",
    "    \n",
    "flatten = Flatten()(inceptionv3_model.output)\n",
    "dense_1 = Dense(units=500, activation='relu')(flatten)\n",
    "dense_2 = Dense(units=500, activation='relu')(dense_1)\n",
    "dense_3 = Dense(units=100, activation='relu')(dense_2)\n",
    "dense_4 = Dense(units=100, activation='relu')(dense_3)\n",
    "dense_output = Dense(units=5, activation='softmax')(dense_4)\n",
    "\n",
    "model = models.Model(inputs=inceptionv3_model.input, outputs=dense_output)\n",
    "model.summary()\n",
    "\n",
    "# [[ 2 69  0  7  0]\n",
    "#  [ 6 43  0  1  0]\n",
    "#  [ 3 45  0  1  0]\n",
    "#  [ 8 14  0 56  0]\n",
    "#  [ 5 70  0  0  0]]\n",
    "# 1.4607737064361572 0.3060606122016907"
   ],
   "id": "d26c6536f663220c",
   "outputs": [
    {
     "ename": "NameError",
     "evalue": "name 'dense_3' is not defined",
     "output_type": "error",
     "traceback": [
      "\u001B[0;31m---------------------------------------------------------------------------\u001B[0m",
      "\u001B[0;31mNameError\u001B[0m                                 Traceback (most recent call last)",
      "Cell \u001B[0;32mIn[5], line 15\u001B[0m\n\u001B[1;32m     11\u001B[0m dense_1 \u001B[38;5;241m=\u001B[39m Dense(units\u001B[38;5;241m=\u001B[39m\u001B[38;5;241m500\u001B[39m, activation\u001B[38;5;241m=\u001B[39m\u001B[38;5;124m'\u001B[39m\u001B[38;5;124mrelu\u001B[39m\u001B[38;5;124m'\u001B[39m)(flatten)\n\u001B[1;32m     13\u001B[0m \u001B[38;5;66;03m# dense_2 = Dense(units=500, activation='relu')(dense_1)\u001B[39;00m\n\u001B[1;32m     14\u001B[0m \u001B[38;5;66;03m# dense_3 = Dense(units=100, activation='relu')(dense_2)\u001B[39;00m\n\u001B[0;32m---> 15\u001B[0m dense_4 \u001B[38;5;241m=\u001B[39m Dense(units\u001B[38;5;241m=\u001B[39m\u001B[38;5;241m100\u001B[39m, activation\u001B[38;5;241m=\u001B[39m\u001B[38;5;124m'\u001B[39m\u001B[38;5;124mrelu\u001B[39m\u001B[38;5;124m'\u001B[39m)(\u001B[43mdense_3\u001B[49m)\n\u001B[1;32m     16\u001B[0m dense_output \u001B[38;5;241m=\u001B[39m Dense(units\u001B[38;5;241m=\u001B[39m\u001B[38;5;241m5\u001B[39m, activation\u001B[38;5;241m=\u001B[39m\u001B[38;5;124m'\u001B[39m\u001B[38;5;124msoftmax\u001B[39m\u001B[38;5;124m'\u001B[39m)(dense_4)\n\u001B[1;32m     18\u001B[0m model \u001B[38;5;241m=\u001B[39m models\u001B[38;5;241m.\u001B[39mModel(inputs\u001B[38;5;241m=\u001B[39minceptionv3_model\u001B[38;5;241m.\u001B[39minput, outputs\u001B[38;5;241m=\u001B[39mdense_output)\n",
      "\u001B[0;31mNameError\u001B[0m: name 'dense_3' is not defined"
     ]
    }
   ],
   "execution_count": 5
  },
  {
   "metadata": {
    "ExecuteTime": {
     "end_time": "2024-08-19T21:32:47.264702Z",
     "start_time": "2024-08-19T21:32:46.356520Z"
    }
   },
   "cell_type": "code",
   "source": [
    "# res net model, input/inception/pooling2d/flatten/dense, 0.30895692110061646 0.9242424368858337\n",
    "inceptionv3_model = tf.keras.applications.InceptionV3(input_shape=(300, 300,3), include_top=False, weights='imagenet')\n",
    "inceptionv3_model.trainable = True\n",
    "\n",
    "fine_tune_at = 100\n",
    "for layer in inceptionv3_model.layers[:fine_tune_at]:\n",
    "    layer.trainable =  False\n",
    "\n",
    "model = models.Sequential([# Lambda(lambda x: x, input_shape=(300, 300, 3)), \n",
    "    tf.keras.layers.InputLayer((300, 300, 3)),\n",
    "    inceptionv3_model,\n",
    "    GlobalAveragePooling2D(),\n",
    "    Flatten(),\n",
    "    Dense(5, activation='softmax')])\n",
    "\n",
    "# [[74  2  2  0  0]\n",
    "#  [43  4  3  0  0]\n",
    "#  [22  7 17  0  3]\n",
    "#  [72  5  1  0  0]\n",
    "#  [63  5  2  0  5]]"
   ],
   "id": "4164b6b825adb212",
   "outputs": [],
   "execution_count": 7
  },
  {
   "metadata": {},
   "cell_type": "code",
   "outputs": [],
   "execution_count": null,
   "source": [
    "# inceptionv3 https://www.kaggle.com/code/sasakitetsuya/mask-age-classification-by-inceptionv3\n",
    "model = tf.keras.models.Sequential()\n",
    "model.add(inceptionv3_model)\n",
    "# model.add(tf.keras.layers.Dropout(0.2))\n",
    "model.add(Flatten())\n",
    "model.add(Dense(128, activation='relu'))\n",
    "model.add(Dense(128, activation='relu'))\n",
    "model.add(tf.keras.layers.Dropout(0.3))\n",
    "model.add(Dense(6, activation='softmax'))\n",
    "\n",
    "model.summary()"
   ],
   "id": "6667c93ac8d84847"
  },
  {
   "metadata": {
    "ExecuteTime": {
     "end_time": "2024-08-19T20:39:37.025585Z",
     "start_time": "2024-08-19T20:39:35.924313Z"
    }
   },
   "cell_type": "code",
   "source": [
    "# inceptionv3 https://www.kaggle.com/code/umarmasud/facemask-detection-inceptionv3 \n",
    "model_pretrained = tf.keras.applications.InceptionV3(weights='imagenet',\n",
    "                               include_top=False,\n",
    "                               input_shape=(300, 300, 3))\n",
    "\n",
    "model = tf.keras.models.Sequential()\n",
    "model.add(tf.keras.layers.InputLayer((300, 300, 3)),)\n",
    "model.add(model_pretrained)\n",
    "model.add(tf.keras.layers.GlobalAveragePooling2D())\n",
    "model.add(tf.keras.layers.Flatten())\n",
    "# model.add(tf.keras.layers.Dense(300, activation=\"relu\"))\n",
    "# model.add(tf.keras.layers.Dropout(0.5))\n",
    "model.add(tf.keras.layers.Dense(100,activation='relu'))\n",
    "# model.add(tf.keras.layers.Dropout(0.5))\n",
    "model.add(tf.keras.layers.Dense(5, activation=\"softmax\")) \n",
    "\n",
    "model.summary()\n",
    "\n",
    "# epoch 5\n",
    "# [[ 0  0  0 78  0]\n",
    "#  [ 0  0  0 50  0]\n",
    "#  [ 0  0  0 49  0]\n",
    "#  [ 0  0  0 78  0]\n",
    "#  [ 0  0  0 75  0]]\n",
    "#  [ 0. 0. 0. 1. 0.]\n",
    "# 1.6072306632995605 0.23636363446712494\n",
    "\n",
    "# [[ 0  0  0 78  0]\n",
    "#  [ 0  0  0 50  0]\n",
    "#  [ 0  0  0 49  0]\n",
    "#  [ 0  0  0 78  0]\n",
    "#  [ 0  0  0 75  0]]\n",
    "#  [0. 0. 0. 1. 0.]\n",
    "\n",
    "# [[74  3  1  0  0]\n",
    "#  [35 10  5  0  0]\n",
    "#  [11 25 11  2  0]\n",
    "#  [61  8  2  7  0]\n",
    "#  [43 15 16  1  0]]\n",
    "# 1.617121696472168 0.30909091234207153 \n",
    "\n",
    "# [[49  0 13 10  6]\n",
    "#  [23  1 14  3  9]\n",
    "#  [10  0 29  5  5]\n",
    "#  [ 4  0  3 71  0]\n",
    "#  [48  2 15  2  8]]\n",
    "# 1.1996866464614868 0.4787878692150116"
   ],
   "id": "57d4aaf4b470afbd",
   "outputs": [
    {
     "data": {
      "text/plain": [
       "\u001B[1mModel: \"sequential_2\"\u001B[0m\n"
      ],
      "text/html": [
       "<pre style=\"white-space:pre;overflow-x:auto;line-height:normal;font-family:Menlo,'DejaVu Sans Mono',consolas,'Courier New',monospace\"><span style=\"font-weight: bold\">Model: \"sequential_2\"</span>\n",
       "</pre>\n"
      ]
     },
     "metadata": {},
     "output_type": "display_data"
    },
    {
     "data": {
      "text/plain": [
       "┏━━━━━━━━━━━━━━━━━━━━━━━━━━━━━━━━━┳━━━━━━━━━━━━━━━━━━━━━━━━┳━━━━━━━━━━━━━━━┓\n",
       "┃\u001B[1m \u001B[0m\u001B[1mLayer (type)                   \u001B[0m\u001B[1m \u001B[0m┃\u001B[1m \u001B[0m\u001B[1mOutput Shape          \u001B[0m\u001B[1m \u001B[0m┃\u001B[1m \u001B[0m\u001B[1m      Param #\u001B[0m\u001B[1m \u001B[0m┃\n",
       "┡━━━━━━━━━━━━━━━━━━━━━━━━━━━━━━━━━╇━━━━━━━━━━━━━━━━━━━━━━━━╇━━━━━━━━━━━━━━━┩\n",
       "│ inception_v3 (\u001B[38;5;33mFunctional\u001B[0m)       │ (\u001B[38;5;45mNone\u001B[0m, \u001B[38;5;34m8\u001B[0m, \u001B[38;5;34m8\u001B[0m, \u001B[38;5;34m2048\u001B[0m)     │    \u001B[38;5;34m21,802,784\u001B[0m │\n",
       "├─────────────────────────────────┼────────────────────────┼───────────────┤\n",
       "│ global_average_pooling2d_2      │ (\u001B[38;5;45mNone\u001B[0m, \u001B[38;5;34m2048\u001B[0m)           │             \u001B[38;5;34m0\u001B[0m │\n",
       "│ (\u001B[38;5;33mGlobalAveragePooling2D\u001B[0m)        │                        │               │\n",
       "├─────────────────────────────────┼────────────────────────┼───────────────┤\n",
       "│ flatten_3 (\u001B[38;5;33mFlatten\u001B[0m)             │ (\u001B[38;5;45mNone\u001B[0m, \u001B[38;5;34m2048\u001B[0m)           │             \u001B[38;5;34m0\u001B[0m │\n",
       "├─────────────────────────────────┼────────────────────────┼───────────────┤\n",
       "│ dense_4 (\u001B[38;5;33mDense\u001B[0m)                 │ (\u001B[38;5;45mNone\u001B[0m, \u001B[38;5;34m100\u001B[0m)            │       \u001B[38;5;34m204,900\u001B[0m │\n",
       "├─────────────────────────────────┼────────────────────────┼───────────────┤\n",
       "│ dense_5 (\u001B[38;5;33mDense\u001B[0m)                 │ (\u001B[38;5;45mNone\u001B[0m, \u001B[38;5;34m5\u001B[0m)              │           \u001B[38;5;34m505\u001B[0m │\n",
       "└─────────────────────────────────┴────────────────────────┴───────────────┘\n"
      ],
      "text/html": [
       "<pre style=\"white-space:pre;overflow-x:auto;line-height:normal;font-family:Menlo,'DejaVu Sans Mono',consolas,'Courier New',monospace\">┏━━━━━━━━━━━━━━━━━━━━━━━━━━━━━━━━━┳━━━━━━━━━━━━━━━━━━━━━━━━┳━━━━━━━━━━━━━━━┓\n",
       "┃<span style=\"font-weight: bold\"> Layer (type)                    </span>┃<span style=\"font-weight: bold\"> Output Shape           </span>┃<span style=\"font-weight: bold\">       Param # </span>┃\n",
       "┡━━━━━━━━━━━━━━━━━━━━━━━━━━━━━━━━━╇━━━━━━━━━━━━━━━━━━━━━━━━╇━━━━━━━━━━━━━━━┩\n",
       "│ inception_v3 (<span style=\"color: #0087ff; text-decoration-color: #0087ff\">Functional</span>)       │ (<span style=\"color: #00d7ff; text-decoration-color: #00d7ff\">None</span>, <span style=\"color: #00af00; text-decoration-color: #00af00\">8</span>, <span style=\"color: #00af00; text-decoration-color: #00af00\">8</span>, <span style=\"color: #00af00; text-decoration-color: #00af00\">2048</span>)     │    <span style=\"color: #00af00; text-decoration-color: #00af00\">21,802,784</span> │\n",
       "├─────────────────────────────────┼────────────────────────┼───────────────┤\n",
       "│ global_average_pooling2d_2      │ (<span style=\"color: #00d7ff; text-decoration-color: #00d7ff\">None</span>, <span style=\"color: #00af00; text-decoration-color: #00af00\">2048</span>)           │             <span style=\"color: #00af00; text-decoration-color: #00af00\">0</span> │\n",
       "│ (<span style=\"color: #0087ff; text-decoration-color: #0087ff\">GlobalAveragePooling2D</span>)        │                        │               │\n",
       "├─────────────────────────────────┼────────────────────────┼───────────────┤\n",
       "│ flatten_3 (<span style=\"color: #0087ff; text-decoration-color: #0087ff\">Flatten</span>)             │ (<span style=\"color: #00d7ff; text-decoration-color: #00d7ff\">None</span>, <span style=\"color: #00af00; text-decoration-color: #00af00\">2048</span>)           │             <span style=\"color: #00af00; text-decoration-color: #00af00\">0</span> │\n",
       "├─────────────────────────────────┼────────────────────────┼───────────────┤\n",
       "│ dense_4 (<span style=\"color: #0087ff; text-decoration-color: #0087ff\">Dense</span>)                 │ (<span style=\"color: #00d7ff; text-decoration-color: #00d7ff\">None</span>, <span style=\"color: #00af00; text-decoration-color: #00af00\">100</span>)            │       <span style=\"color: #00af00; text-decoration-color: #00af00\">204,900</span> │\n",
       "├─────────────────────────────────┼────────────────────────┼───────────────┤\n",
       "│ dense_5 (<span style=\"color: #0087ff; text-decoration-color: #0087ff\">Dense</span>)                 │ (<span style=\"color: #00d7ff; text-decoration-color: #00d7ff\">None</span>, <span style=\"color: #00af00; text-decoration-color: #00af00\">5</span>)              │           <span style=\"color: #00af00; text-decoration-color: #00af00\">505</span> │\n",
       "└─────────────────────────────────┴────────────────────────┴───────────────┘\n",
       "</pre>\n"
      ]
     },
     "metadata": {},
     "output_type": "display_data"
    },
    {
     "data": {
      "text/plain": [
       "\u001B[1m Total params: \u001B[0m\u001B[38;5;34m22,008,189\u001B[0m (83.95 MB)\n"
      ],
      "text/html": [
       "<pre style=\"white-space:pre;overflow-x:auto;line-height:normal;font-family:Menlo,'DejaVu Sans Mono',consolas,'Courier New',monospace\"><span style=\"font-weight: bold\"> Total params: </span><span style=\"color: #00af00; text-decoration-color: #00af00\">22,008,189</span> (83.95 MB)\n",
       "</pre>\n"
      ]
     },
     "metadata": {},
     "output_type": "display_data"
    },
    {
     "data": {
      "text/plain": [
       "\u001B[1m Trainable params: \u001B[0m\u001B[38;5;34m21,973,757\u001B[0m (83.82 MB)\n"
      ],
      "text/html": [
       "<pre style=\"white-space:pre;overflow-x:auto;line-height:normal;font-family:Menlo,'DejaVu Sans Mono',consolas,'Courier New',monospace\"><span style=\"font-weight: bold\"> Trainable params: </span><span style=\"color: #00af00; text-decoration-color: #00af00\">21,973,757</span> (83.82 MB)\n",
       "</pre>\n"
      ]
     },
     "metadata": {},
     "output_type": "display_data"
    },
    {
     "data": {
      "text/plain": [
       "\u001B[1m Non-trainable params: \u001B[0m\u001B[38;5;34m34,432\u001B[0m (134.50 KB)\n"
      ],
      "text/html": [
       "<pre style=\"white-space:pre;overflow-x:auto;line-height:normal;font-family:Menlo,'DejaVu Sans Mono',consolas,'Courier New',monospace\"><span style=\"font-weight: bold\"> Non-trainable params: </span><span style=\"color: #00af00; text-decoration-color: #00af00\">34,432</span> (134.50 KB)\n",
       "</pre>\n"
      ]
     },
     "metadata": {},
     "output_type": "display_data"
    }
   ],
   "execution_count": 15
  },
  {
   "metadata": {
    "ExecuteTime": {
     "end_time": "2024-08-19T21:48:06.236200Z",
     "start_time": "2024-08-19T21:32:51.527114Z"
    }
   },
   "cell_type": "code",
   "source": [
    "model.compile(\n",
    "    loss='categorical_crossentropy',\n",
    "    optimizer='adam',\n",
    "    metrics=['accuracy']\n",
    ")\n",
    "#  optimizer=tf.keras.optimizers.SGD(learning_rate=0.01)\n",
    "\n",
    "history = model.fit(\n",
    "    training_data,\n",
    "    validation_data=test_data,\n",
    "    epochs=5,\n",
    "    # batch_size=BATCH,\n",
    "    # steps_per_epoch=len(training_data),\n",
    "    # validation_steps=len(test_data)\n",
    ")"
   ],
   "id": "8b71ef0efacdf303",
   "outputs": [
    {
     "name": "stdout",
     "output_type": "stream",
     "text": [
      "Epoch 1/5\n"
     ]
    },
    {
     "name": "stderr",
     "output_type": "stream",
     "text": [
      "/Users/ashleycui/miniconda3/envs/tf2/lib/python3.11/site-packages/keras/src/trainers/data_adapters/py_dataset_adapter.py:121: UserWarning: Your `PyDataset` class should call `super().__init__(**kwargs)` in its constructor. `**kwargs` can include `workers`, `use_multiprocessing`, `max_queue_size`. Do not pass these arguments to `fit()`, as they will be ignored.\n",
      "  self._warn_if_super_not_called()\n"
     ]
    },
    {
     "name": "stdout",
     "output_type": "stream",
     "text": [
      "\u001B[1m326/326\u001B[0m \u001B[32m━━━━━━━━━━━━━━━━━━━━\u001B[0m\u001B[37m\u001B[0m \u001B[1m215s\u001B[0m 629ms/step - accuracy: 0.5533 - loss: 1.1503 - val_accuracy: 0.2727 - val_loss: 7.4781\n",
      "Epoch 2/5\n",
      "\u001B[1m326/326\u001B[0m \u001B[32m━━━━━━━━━━━━━━━━━━━━\u001B[0m\u001B[37m\u001B[0m \u001B[1m169s\u001B[0m 518ms/step - accuracy: 0.7800 - loss: 0.6418 - val_accuracy: 0.6515 - val_loss: 1.5917\n",
      "Epoch 3/5\n",
      "\u001B[1m326/326\u001B[0m \u001B[32m━━━━━━━━━━━━━━━━━━━━\u001B[0m\u001B[37m\u001B[0m \u001B[1m202s\u001B[0m 618ms/step - accuracy: 0.8159 - loss: 0.5389 - val_accuracy: 0.9091 - val_loss: 0.2872\n",
      "Epoch 4/5\n",
      "\u001B[1m326/326\u001B[0m \u001B[32m━━━━━━━━━━━━━━━━━━━━\u001B[0m\u001B[37m\u001B[0m \u001B[1m164s\u001B[0m 501ms/step - accuracy: 0.8789 - loss: 0.3982 - val_accuracy: 0.6788 - val_loss: 1.1202\n",
      "Epoch 5/5\n",
      "\u001B[1m326/326\u001B[0m \u001B[32m━━━━━━━━━━━━━━━━━━━━\u001B[0m\u001B[37m\u001B[0m \u001B[1m164s\u001B[0m 503ms/step - accuracy: 0.8897 - loss: 0.3880 - val_accuracy: 0.9242 - val_loss: 0.3090\n"
     ]
    }
   ],
   "execution_count": 8
  },
  {
   "metadata": {
    "ExecuteTime": {
     "end_time": "2024-08-19T21:53:10.963344Z",
     "start_time": "2024-08-19T21:52:48.750802Z"
    }
   },
   "cell_type": "code",
   "source": [
    "#Creacion de la matriz de confusion\n",
    "y_pred=model.predict(test_data, batch_size=BATCH)\n",
    "print(y_pred.shape)\n",
    "\n",
    "y_pred = np.argmax(y_pred, axis=1)\n",
    "print(y_pred)\n",
    "\n",
    "cm=confusion_matrix(test_data.classes, y_pred)\n",
    "print(cm)\n",
    "\n",
    "#Impresion de la exactitud\n",
    "accu = cm.astype('float') / cm.sum(axis=1)[:, np.newaxis]\n",
    "accu =accu.diagonal()\n",
    "print(accu)\n",
    "\n",
    "#Reporte de metricas\n",
    "target_names = ['cloth', 'n95', 'n95v', 'nfm', 'srg']\n",
    "print(classification_report(test_data.classes, y_pred, target_names=target_names, digits=4))\n",
    "\n",
    "# loss, accuracy, specificity, precision, recall = model.evaluate(test_data, verbose=0)\n",
    "loss, accuracy = model.evaluate(test_data, verbose=0)\n",
    "\n",
    "print(loss, accuracy)"
   ],
   "id": "f98d3010efafd12c",
   "outputs": [
    {
     "name": "stdout",
     "output_type": "stream",
     "text": [
      "\u001B[1m55/55\u001B[0m \u001B[32m━━━━━━━━━━━━━━━━━━━━\u001B[0m\u001B[37m\u001B[0m \u001B[1m12s\u001B[0m 195ms/step\n",
      "(330, 5)\n",
      "[0 0 0 0 0 0 0 0 0 0 0 0 3 0 0 0 0 0 0 0 0 0 0 0 0 0 0 0 0 0 0 0 0 0 0 0 0\n",
      " 0 0 0 0 0 0 0 0 0 2 4 0 1 0 0 0 0 0 0 0 0 0 0 0 0 0 0 0 0 0 0 0 0 1 0 0 0\n",
      " 0 0 0 0 1 1 1 1 1 1 1 1 1 1 1 1 1 1 1 1 1 1 1 1 1 1 1 1 1 1 1 1 1 1 1 1 1\n",
      " 1 1 1 0 1 1 1 1 1 1 1 1 0 0 1 1 1 2 2 2 2 2 2 2 2 2 2 2 2 2 2 2 2 2 2 3 2\n",
      " 2 2 2 2 2 2 2 2 2 2 2 2 2 2 2 2 2 2 2 2 2 2 2 2 2 2 2 2 2 3 3 3 3 3 3 3 3\n",
      " 3 3 3 3 3 3 3 3 2 3 3 3 3 3 3 3 3 3 3 0 3 3 3 3 3 3 3 3 3 3 3 3 3 3 3 3 3\n",
      " 3 3 0 3 3 3 3 3 3 3 3 0 3 3 3 3 3 3 3 3 3 3 3 3 3 3 3 3 3 3 3 3 3 4 4 4 4\n",
      " 4 4 4 0 4 4 4 0 4 0 4 4 4 4 0 0 4 4 4 0 4 4 0 4 0 4 0 4 4 4 4 4 4 2 4 4 4\n",
      " 4 4 4 4 4 4 4 4 4 4 4 4 0 4 0 4 4 4 4 4 4 4 4 4 4 4 4 4 4 4 4 4 4 4]\n",
      "[[73  2  1  1  1]\n",
      " [ 3 47  0  0  0]\n",
      " [ 0  0 48  1  0]\n",
      " [ 3  0  1 74  0]\n",
      " [11  0  1  0 63]]\n",
      "[0.93589744 0.94       0.97959184 0.94871795 0.84      ]\n",
      "              precision    recall  f1-score   support\n",
      "\n",
      "       cloth     0.8111    0.9359    0.8690        78\n",
      "         n95     0.9592    0.9400    0.9495        50\n",
      "        n95v     0.9412    0.9796    0.9600        49\n",
      "         nfm     0.9737    0.9487    0.9610        78\n",
      "         srg     0.9844    0.8400    0.9065        75\n",
      "\n",
      "    accuracy                         0.9242       330\n",
      "   macro avg     0.9339    0.9288    0.9292       330\n",
      "weighted avg     0.9307    0.9242    0.9250       330\n",
      "\n",
      "0.30895692110061646 0.9242424368858337\n"
     ]
    }
   ],
   "execution_count": 9
  },
  {
   "metadata": {
    "ExecuteTime": {
     "end_time": "2024-08-19T21:54:53.799746Z",
     "start_time": "2024-08-19T21:54:53.631222Z"
    }
   },
   "cell_type": "code",
   "source": [
    "# plot the loss\n",
    "import matplotlib.pyplot as plt\n",
    "\n",
    "plt.plot(history.history['loss'], label='train loss')\n",
    "plt.plot(history.history['val_loss'], label='val loss')\n",
    "plt.legend()\n",
    "plt.show()\n",
    "# plt.savefig('LossVal_loss')\n",
    "\n",
    "# plot the accuracy\n",
    "plt.plot(history.history['accuracy'], label='train acc')\n",
    "plt.plot(history.history['val_accuracy'], label='val acc')\n",
    "plt.legend()\n",
    "plt.show()\n",
    "# plt.savefig('AccVal_acc')\n",
    "import numpy as np"
   ],
   "id": "810eb48ee01c12a2",
   "outputs": [
    {
     "data": {
      "text/plain": [
       "<Figure size 640x480 with 1 Axes>"
      ],
      "image/png": "[encoded data removed]"
     },
     "metadata": {},
     "output_type": "display_data"
    },
    {
     "data": {
      "text/plain": [
       "<Figure size 640x480 with 1 Axes>"
      ],
      "image/png": "[encoded data removed]"
     },
     "metadata": {},
     "output_type": "display_data"
    }
   ],
   "execution_count": 12
  },
  {
   "metadata": {
    "ExecuteTime": {
     "end_time": "2024-08-19T21:53:38.198122Z",
     "start_time": "2024-08-19T21:53:37.018568Z"
    }
   },
   "cell_type": "code",
   "source": [
    "test_image = tf.keras.preprocessing.image.load_img(\n",
    "    './Dataset/test/n95v/1.jpg',\n",
    "    target_size=INPUT_SIZE)\n",
    "test_image = tf.keras.preprocessing.image.img_to_array(test_image)\n",
    "test_image = test_image / 255\n",
    "test_image = np.expand_dims(test_image, axis=0)\n",
    "result = model.predict(test_image)\n",
    "i = np.argmax(result[0])\n",
    "classes = training_data.class_indices.keys()\n",
    "print(classes)\n",
    "list(classes)[i]"
   ],
   "id": "70cce262e0ca4378",
   "outputs": [
    {
     "name": "stdout",
     "output_type": "stream",
     "text": [
      "\u001B[1m1/1\u001B[0m \u001B[32m━━━━━━━━━━━━━━━━━━━━\u001B[0m\u001B[37m\u001B[0m \u001B[1m1s\u001B[0m 1s/step\n",
      "dict_keys(['cloth', 'n95', 'n95v', 'nfm', 'srg'])\n"
     ]
    },
    {
     "data": {
      "text/plain": [
       "'n95v'"
      ]
     },
     "execution_count": 11,
     "metadata": {},
     "output_type": "execute_result"
    }
   ],
   "execution_count": 11
  }
 ],
 "metadata": {
  "kernelspec": {
   "display_name": "Python 3",
   "language": "python",
   "name": "python3"
  },
  "language_info": {
   "codemirror_mode": {
    "name": "ipython",
    "version": 2
   },
   "file_extension": ".py",
   "mimetype": "text/x-python",
   "name": "python",
   "nbconvert_exporter": "python",
   "pygments_lexer": "ipython2",
   "version": "2.7.6"
  }
 },
 "nbformat": 4,
 "nbformat_minor": 5
}
