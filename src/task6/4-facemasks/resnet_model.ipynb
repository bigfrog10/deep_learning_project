{
 "cells": [
  {
   "cell_type": "code",
   "id": "initial_id",
   "metadata": {
    "collapsed": true,
    "ExecuteTime": {
     "end_time": "2024-08-23T15:03:38.263534Z",
     "start_time": "2024-08-23T15:03:38.258149Z"
    }
   },
   "source": [
    "# data from: https://www.kaggle.com/datasets/bahadoreizadkhah/face-mask-types-dataset/code\n",
    "# reference: https://towardsdatascience.com/from-alexnet-to-nasnet-a-brief-history-and-introduction-of-convolutional-neural-networks-cf63bf3320e1 \n",
    "# reference: https://github.com/Alexiush/weak-causality-and-causal-disposition-in-images/blob/main/ca_cnn_sample_resnet.ipynb\n",
    "\n",
    "import numpy as np\n",
    "import tensorflow as tf\n",
    "from tensorflow.keras.layers import Dense, Flatten, GlobalAveragePooling2D\n",
    "from tensorflow.keras import backend as K\n",
    "from tensorflow.keras import models\n",
    "from sklearn.metrics import confusion_matrix\n",
    "import pathlib"
   ],
   "outputs": [],
   "execution_count": 29
  },
  {
   "metadata": {
    "ExecuteTime": {
     "end_time": "2024-08-23T15:03:38.267206Z",
     "start_time": "2024-08-23T15:03:38.264984Z"
    }
   },
   "cell_type": "code",
   "source": [
    "data_train = pathlib.Path('./Dataset/train')\n",
    "data_test = pathlib.Path('./Dataset/test')\n",
    "\n",
    "INPUT_SIZE = [300, 300]\n",
    "BATCH = 6"
   ],
   "id": "4ab8318161de5866",
   "outputs": [],
   "execution_count": 30
  },
  {
   "metadata": {
    "ExecuteTime": {
     "end_time": "2024-08-23T15:03:38.428419Z",
     "start_time": "2024-08-23T15:03:38.269249Z"
    }
   },
   "cell_type": "code",
   "source": [
    "training_datagen = tf.keras.preprocessing.image.ImageDataGenerator(\n",
    "    rotation_range=20,\n",
    "    zoom_range=0.2, \n",
    "    width_shift_range=0.2,\n",
    "    height_shift_range=0.2,\n",
    "    shear_range=0.2, \n",
    "    horizontal_flip=True,\n",
    "    fill_mode=\"nearest\",\n",
    "    validation_split=0.0,\n",
    "    # rescale=1./255,\n",
    "    preprocessing_function=tf.keras.applications.resnet_v2.preprocess_input\n",
    "    )\n",
    "\n",
    "training_data = training_datagen.flow_from_directory('./Dataset/train', \n",
    "                                                     subset=\"training\", \n",
    "                                                     shuffle=True, \n",
    "                                                     target_size=INPUT_SIZE, \n",
    "                                                     batch_size=BATCH, \n",
    "                                                     color_mode=\"rgb\",\n",
    "                                                     class_mode='categorical')\n",
    "\n",
    "test_datagen = tf.keras.preprocessing.image.ImageDataGenerator(\n",
    "    # rescale=1./255,\n",
    "    preprocessing_function=tf.keras.applications.resnet_v2.preprocess_input\n",
    ")\n",
    "\n",
    "test_data = test_datagen.flow_from_directory('./Dataset/test', \n",
    "                                             target_size=INPUT_SIZE, \n",
    "                                             color_mode=\"rgb\", \n",
    "                                             batch_size=BATCH,\n",
    "                                             class_mode='categorical',\n",
    "                                             shuffle=False)\n",
    "\n",
    "# display dimensions\n",
    "x_test, y_test = next(test_data)\n",
    "x_train, y_train = next(training_data)"
   ],
   "id": "ea7fc0531d23ffa8",
   "outputs": [
    {
     "name": "stdout",
     "output_type": "stream",
     "text": [
      "Found 1956 images belonging to 5 classes.\n",
      "Found 330 images belonging to 5 classes.\n"
     ]
    }
   ],
   "execution_count": 31
  },
  {
   "metadata": {
    "ExecuteTime": {
     "end_time": "2024-08-23T15:03:39.357898Z",
     "start_time": "2024-08-23T15:03:38.430116Z"
    }
   },
   "cell_type": "code",
   "source": [
    "# pooling='avg' => same as adding GlobalAveragePooling2D \n",
    "resn_model = tf.keras.applications.ResNet101V2(input_shape=(300, 300,3), include_top=False, weights='imagenet')\n",
    "resn_model.trainable = True\n",
    "\n",
    "fine_tune_at = 100\n",
    "for layer in resn_model.layers[:fine_tune_at]:\n",
    "    layer.trainable = False\n",
    "\n",
    "resn_model.summary()"
   ],
   "id": "e11a87618d832276",
   "outputs": [],
   "execution_count": 32
  },
  {
   "metadata": {
    "ExecuteTime": {
     "end_time": "2024-08-23T15:03:39.360558Z",
     "start_time": "2024-08-23T15:03:39.358667Z"
    }
   },
   "cell_type": "code",
   "source": [
    "import tensorflow as tf\n",
    "\n",
    "tf.keras.utils.plot_model(resn_model, to_file='model_plot.png', show_shapes=True, show_layer_names=True)"
   ],
   "id": "47b83083726a115b",
   "outputs": [],
   "execution_count": 33
  },
  {
   "metadata": {
    "ExecuteTime": {
     "end_time": "2024-08-23T15:03:39.363552Z",
     "start_time": "2024-08-23T15:03:39.361954Z"
    }
   },
   "cell_type": "code",
   "source": [
    "import visualkeras\n",
    "\n",
    "visualkeras.layered_view(resn_model)"
   ],
   "id": "54f277112d2a135e",
   "outputs": [],
   "execution_count": 34
  },
  {
   "metadata": {
    "ExecuteTime": {
     "end_time": "2024-08-23T15:03:39.393252Z",
     "start_time": "2024-08-23T15:03:39.364230Z"
    }
   },
   "cell_type": "code",
   "source": [
    "model = models.Sequential([# Lambda(lambda x: x, input_shape=(300, 300, 3)), \n",
    "    tf.keras.layers.InputLayer((300, 300, 3)),\n",
    "    resn_model,\n",
    "    GlobalAveragePooling2D(),\n",
    "    Flatten(),\n",
    "    tf.keras.layers.Dropout(0.5),\n",
    "    Dense(1024, activation='relu'),\n",
    "    tf.keras.layers.Dropout(0.5),\n",
    "    Dense(64, activation='relu'),\n",
    "    tf.keras.layers.Dropout(0.5),\n",
    "    Dense(32, activation='relu'),\n",
    "    tf.keras.layers.Dropout(0.5),\n",
    "    Dense(5, activation='softmax')])\n",
    "\n",
    "# model = models.Sequential([# Lambda(lambda x: x, input_shape=(300, 300, 3)), \n",
    "#     tf.keras.layers.InputLayer((300, 300, 3)),\n",
    "#     resn_model,\n",
    "#     tf.keras.layers.AveragePooling2D(pool_size = (4,4), padding='same'),\n",
    "#     Flatten(),\n",
    "#     Dense(512, activation='relu'),\n",
    "#     tf.keras.layers.Dropout(0.2),\n",
    "#     Dense(512, activation='relu'),\n",
    "#     tf.keras.layers.Dropout(0.2),\n",
    "#     Dense(512, activation='relu'),\n",
    "#     tf.keras.layers.Dropout(0.2),\n",
    "#     Dense(5, activation='softmax')])\n",
    "# \n",
    "# model.summary()"
   ],
   "id": "b08c347e230bc6b4",
   "outputs": [],
   "execution_count": 35
  },
  {
   "metadata": {
    "ExecuteTime": {
     "end_time": "2024-08-23T15:03:39.395527Z",
     "start_time": "2024-08-23T15:03:39.393867Z"
    }
   },
   "cell_type": "code",
   "source": "tf.keras.utils.plot_model(model, to_file='model_plot.png', show_shapes=True, show_layer_names=True)",
   "id": "e8275f5bc2486e29",
   "outputs": [],
   "execution_count": 36
  },
  {
   "metadata": {
    "ExecuteTime": {
     "end_time": "2024-08-23T15:03:39.397846Z",
     "start_time": "2024-08-23T15:03:39.396334Z"
    }
   },
   "cell_type": "code",
   "source": "visualkeras.layered_view(model)",
   "id": "fda896a52ff86f41",
   "outputs": [],
   "execution_count": 37
  },
  {
   "metadata": {
    "jupyter": {
     "is_executing": true
    },
    "ExecuteTime": {
     "start_time": "2024-08-23T15:03:39.398583Z"
    }
   },
   "cell_type": "code",
   "source": [
    "model.compile(\n",
    "    loss='categorical_crossentropy',\n",
    "    optimizer=tf.keras.optimizers.Adam(learning_rate=0.0001), # 'adam'\n",
    "    metrics=['accuracy']\n",
    ")\n",
    "#  optimizer=tf.keras.optimizers.SGD(learning_rate=0.01)\n",
    "\n",
    "history = model.fit(\n",
    "    training_data,\n",
    "    validation_data=test_data,\n",
    "    # x=x_train,\n",
    "    # y=y_train,\n",
    "    # validation_split=0.2,\n",
    "    epochs=10,\n",
    "    batch_size=BATCH,\n",
    "    # steps_per_epoch=len(training_data),\n",
    "    # validation_steps=len(test_data)\n",
    ")"
   ],
   "id": "5f1bb0380a7b2de",
   "outputs": [
    {
     "name": "stdout",
     "output_type": "stream",
     "text": [
      "Epoch 1/10\n",
      "\u001B[1m326/326\u001B[0m \u001B[32m━━━━━━━━━━━━━━━━━━━━\u001B[0m\u001B[37m\u001B[0m \u001B[1m477s\u001B[0m 1s/step - accuracy: 0.2343 - loss: 1.7543 - val_accuracy: 0.4485 - val_loss: 1.1906\n",
      "Epoch 2/10\n",
      "\u001B[1m326/326\u001B[0m \u001B[32m━━━━━━━━━━━━━━━━━━━━\u001B[0m\u001B[37m\u001B[0m \u001B[1m462s\u001B[0m 1s/step - accuracy: 0.3942 - loss: 1.3854 - val_accuracy: 0.6818 - val_loss: 0.9888\n",
      "Epoch 3/10\n",
      "\u001B[1m326/326\u001B[0m \u001B[32m━━━━━━━━━━━━━━━━━━━━\u001B[0m\u001B[37m\u001B[0m \u001B[1m472s\u001B[0m 1s/step - accuracy: 0.5334 - loss: 1.1273 - val_accuracy: 0.7758 - val_loss: 0.7555\n",
      "Epoch 4/10\n",
      "\u001B[1m326/326\u001B[0m \u001B[32m━━━━━━━━━━━━━━━━━━━━\u001B[0m\u001B[37m\u001B[0m \u001B[1m496s\u001B[0m 2s/step - accuracy: 0.6192 - loss: 0.9615 - val_accuracy: 0.7303 - val_loss: 0.8829\n",
      "Epoch 5/10\n",
      "\u001B[1m326/326\u001B[0m \u001B[32m━━━━━━━━━━━━━━━━━━━━\u001B[0m\u001B[37m\u001B[0m \u001B[1m482s\u001B[0m 1s/step - accuracy: 0.6770 - loss: 0.8907 - val_accuracy: 0.9000 - val_loss: 0.4325\n",
      "Epoch 6/10\n",
      "\u001B[1m326/326\u001B[0m \u001B[32m━━━━━━━━━━━━━━━━━━━━\u001B[0m\u001B[37m\u001B[0m \u001B[1m477s\u001B[0m 1s/step - accuracy: 0.7369 - loss: 0.7786 - val_accuracy: 0.9152 - val_loss: 0.4751\n",
      "Epoch 7/10\n",
      "\u001B[1m274/326\u001B[0m \u001B[32m━━━━━━━━━━━━━━━━\u001B[0m\u001B[37m━━━━\u001B[0m \u001B[1m1:12\u001B[0m 1s/step - accuracy: 0.7614 - loss: 0.7154"
     ]
    }
   ],
   "execution_count": null
  },
  {
   "metadata": {
    "jupyter": {
     "is_executing": true
    }
   },
   "cell_type": "code",
   "source": [
    "# create confusion matrix\n",
    "y_pred=model.predict(test_data, batch_size=BATCH)\n",
    "print(y_pred.shape)\n",
    "\n",
    "y_pred = np.argmax(y_pred, axis=1)\n",
    "print(y_pred)\n",
    "\n",
    "cm=confusion_matrix(test_data.classes, y_pred)\n",
    "print(cm)\n",
    "\n",
    "#Impresion de la exactitud\n",
    "accu = cm.astype('float') / cm.sum(axis=1)[:, np.newaxis]\n",
    "accu =accu.diagonal()\n",
    "print(accu)\n",
    "\n",
    "loss, accuracy = model.evaluate(test_data, verbose=0)\n",
    "print(loss, accuracy)"
   ],
   "id": "eaf33565f919246f",
   "outputs": [],
   "execution_count": null
  },
  {
   "metadata": {
    "jupyter": {
     "is_executing": true
    }
   },
   "cell_type": "code",
   "source": [
    "from sklearn.metrics import confusion_matrix\n",
    "import seaborn as sns\n",
    "import matplotlib.pyplot as plt\n",
    "\n",
    "cm = confusion_matrix(test_data.classes, y_pred)\n",
    "plt.figure(figsize=(6, 6))\n",
    "sns.heatmap(cm, annot=True, cmap='Blues', xticklabels=['cloth', 'n95', 'n95v', 'nfm', 'srg'], yticklabels=['cloth', 'n95', 'n95v', 'nfm', 'srg'])\n",
    "plt.xlabel('Predicted')\n",
    "plt.ylabel('Actual')\n",
    "plt.title('Confusion Matrix Data Train')\n",
    "plt.show()"
   ],
   "id": "c83dde7ea2eee2c5",
   "outputs": [],
   "execution_count": null
  },
  {
   "metadata": {
    "jupyter": {
     "is_executing": true
    }
   },
   "cell_type": "code",
   "source": [
    "# plot the loss\n",
    "plt.plot(history.history['loss'], label='train loss')\n",
    "plt.plot(history.history['val_loss'], label='val loss')\n",
    "plt.legend()\n",
    "plt.show()\n",
    "# plt.savefig('LossVal_loss')\n",
    "\n",
    "# plot the accuracy\n",
    "plt.plot(history.history['accuracy'], label='train acc')\n",
    "plt.plot(history.history['val_accuracy'], label='val acc')\n",
    "plt.legend()\n",
    "plt.show()\n",
    "# plt.savefig('AccVal_acc')"
   ],
   "id": "9651125162521b9e",
   "outputs": [],
   "execution_count": null
  },
  {
   "metadata": {
    "jupyter": {
     "is_executing": true
    }
   },
   "cell_type": "code",
   "source": [
    "import numpy as np\n",
    "\n",
    "test_image = tf.keras.preprocessing.image.load_img(\n",
    "    './Dataset/test/cloth/1.jpg',\n",
    "    target_size=INPUT_SIZE)\n",
    "test_image = tf.keras.preprocessing.image.img_to_array(test_image)\n",
    "test_image = test_image / 255\n",
    "test_image = np.expand_dims(test_image, axis=0)\n",
    "result = model.predict(test_image)\n",
    "i = np.argmax(result[0])\n",
    "classes = training_data.class_indices.keys()\n",
    "print(classes)\n",
    "list(classes)[i]\n",
    "\n",
    "# if result[0][0] < 0.5:\n",
    "#     print('Image classified as WithMAsk')\n",
    "# else:\n",
    "#     print('Image classified as Without Mask')"
   ],
   "id": "634dff518d48010",
   "outputs": [],
   "execution_count": null
  },
  {
   "metadata": {
    "jupyter": {
     "is_executing": true
    }
   },
   "cell_type": "code",
   "source": [
    "def plot_image(j, predictions_array, true_label, img):\n",
    "    true_label, img = true_label[j], img[j]\n",
    "    plt.grid(False)\n",
    "    plt.xticks([])\n",
    "    plt.yticks([])\n",
    "    \n",
    "    plt.imshow(img, cmap=plt.cm.binary)\n",
    "    \n",
    "    predicted_label = np.argmax(predictions_array)\n",
    "    if predicted_label == np.argmax(true_label):\n",
    "        color = 'blue'\n",
    "    else:\n",
    "        color = 'red'\n",
    "    \n",
    "    plt.xlabel(\"{} {:2.0f}% ({})\".format(classes[predicted_label],\n",
    "                                         100*np.max(predictions_array),\n",
    "                                         classes[np.argmax(true_label)]),\n",
    "               color=color)\n",
    "\n",
    "def plot_value_array(k, predictions_array, true_label):\n",
    "    true_label = true_label[k]\n",
    "    plt.grid(False)\n",
    "    plt.xticks(range(5))\n",
    "    plt.yticks([])\n",
    "    thisplot = plt.bar(range(5), predictions_array, color=\"#777777\")\n",
    "    plt.ylim([0, 1])\n",
    "    predicted_label = np.argmax(predictions_array)\n",
    "\n",
    "    thisplot[predicted_label].set_color('red')\n",
    "    thisplot[np.argmax(true_label)].set_color('blue')\n",
    "\n",
    "i = 1\n",
    "print(classes)\n",
    "print(classes[i])\n",
    "\n",
    "plt.figure(figsize=(6,3))\n",
    "plt.subplot(1,2,1)\n",
    "plot_image(i, result, y_test, x_test)\n",
    "plt.subplot(1,2,2)\n",
    "plot_value_array(i, result[0], y_test)\n",
    "plt.show()"
   ],
   "id": "7c49783dab6bb227",
   "outputs": [],
   "execution_count": null
  }
 ],
 "metadata": {
  "kernelspec": {
   "display_name": "Python 3",
   "language": "python",
   "name": "python3"
  },
  "language_info": {
   "codemirror_mode": {
    "name": "ipython",
    "version": 2
   },
   "file_extension": ".py",
   "mimetype": "text/x-python",
   "name": "python",
   "nbconvert_exporter": "python",
   "pygments_lexer": "ipython2",
   "version": "2.7.6"
  }
 },
 "nbformat": 4,
 "nbformat_minor": 5
}
