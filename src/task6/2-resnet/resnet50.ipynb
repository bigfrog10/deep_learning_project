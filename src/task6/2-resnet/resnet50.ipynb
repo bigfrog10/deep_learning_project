{
 "cells": [
  {
   "cell_type": "code",
   "execution_count": null,
   "id": "initial_id",
   "metadata": {
    "collapsed": true
   },
   "outputs": [],
   "source": "# https://arxiv.org/abs/1512.03385"
  },
  {
   "metadata": {},
   "cell_type": "code",
   "outputs": [],
   "execution_count": null,
   "source": [
    "class ResNet50(object):\n",
    "    def __init__(self, inputs, num_classes=1000, is_training=True,\n",
    "                 scope=\"resnet50\"):\n",
    "        self.inputs =inputs\n",
    "        self.is_training = is_training\n",
    "        self.num_classes = num_classes\n",
    "\n",
    "        with tf.variable_scope(scope):\n",
    "            # construct the model\n",
    "            net = conv2d(inputs, 64, 7, 2, scope=\"conv1\") # -> [batch, 112, 112, 64]\n",
    "            net = tf.nn.relu(batch_norm(net, is_training=self.is_training, scope=\"bn1\"))\n",
    "            net = max_pool(net, 3, 2, scope=\"maxpool1\")  # -> [batch, 56, 56, 64]\n",
    "            net = self._block(net, 256, 3, init_stride=1, is_training=self.is_training,\n",
    "                              scope=\"block2\")           # -> [batch, 56, 56, 256]\n",
    "            net = self._block(net, 512, 4, is_training=self.is_training, scope=\"block3\")\n",
    "            # -> [batch, 28, 28, 512]\n",
    "            net = self._block(net, 1024, 6, is_training=self.is_training, scope=\"block4\")\n",
    "            # -> [batch, 14, 14, 1024]\n",
    "            net = self._block(net, 2048, 3, is_training=self.is_training, scope=\"block5\")\n",
    "            # -> [batch, 7, 7, 2048]\n",
    "            net = avg_pool(net, 7, scope=\"avgpool5\")    # -> [batch, 1, 1, 2048]\n",
    "            net = tf.squeeze(net, [1, 2], name=\"SpatialSqueeze\") # -> [batch, 2048]\n",
    "            self.logits = fc(net, self.num_classes, \"fc6\")       # -> [batch, num_classes]\n",
    "            self.predictions = tf.nn.softmax(self.logits)\n",
    "\n",
    "\n",
    "    def _block(self, x, n_out, n, init_stride=2, is_training=True, scope=\"block\"):\n",
    "        with tf.variable_scope(scope):\n",
    "            h_out = n_out // 4\n",
    "            out = self._bottleneck(x, h_out, n_out, stride=init_stride,\n",
    "                                   is_training=is_training, scope=\"bottlencek1\")\n",
    "            for i in range(1, n):\n",
    "                out = self._bottleneck(out, h_out, n_out, is_training=is_training,\n",
    "                                       scope=(\"bottlencek%s\" % (i + 1)))\n",
    "            return out\n",
    "        \n",
    "    def _bottleneck(self, x, h_out, n_out, stride=None, is_training=True, scope=\"bottleneck\"):\n",
    "        \"\"\" A residual bottleneck unit\"\"\"\n",
    "        n_in = x.get_shape()[-1]\n",
    "        if stride is None:\n",
    "            stride = 1 if n_in == n_out else 2\n",
    "\n",
    "        with tf.variable_scope(scope):\n",
    "            h = conv2d(x, h_out, 1, stride=stride, scope=\"conv_1\")\n",
    "            h = batch_norm(h, is_training=is_training, scope=\"bn_1\")\n",
    "            h = tf.nn.relu(h)\n",
    "            h = conv2d(h, h_out, 3, stride=1, scope=\"conv_2\")\n",
    "            h = batch_norm(h, is_training=is_training, scope=\"bn_2\")\n",
    "            h = tf.nn.relu(h)\n",
    "            h = conv2d(h, n_out, 1, stride=1, scope=\"conv_3\")\n",
    "            h = batch_norm(h, is_training=is_training, scope=\"bn_3\")\n",
    "\n",
    "            if n_in != n_out:\n",
    "                shortcut = conv2d(x, n_out, 1, stride=stride, scope=\"conv_4\")\n",
    "                shortcut = batch_norm(shortcut, is_training=is_training, scope=\"bn_4\")\n",
    "            else:\n",
    "                shortcut = x\n",
    "            return tf.nn.relu(shortcut + h)"
   ],
   "id": "d22cf625f2153ab2"
  }
 ],
 "metadata": {
  "kernelspec": {
   "display_name": "Python 3",
   "language": "python",
   "name": "python3"
  },
  "language_info": {
   "codemirror_mode": {
    "name": "ipython",
    "version": 2
   },
   "file_extension": ".py",
   "mimetype": "text/x-python",
   "name": "python",
   "nbconvert_exporter": "python",
   "pygments_lexer": "ipython2",
   "version": "2.7.6"
  }
 },
 "nbformat": 4,
 "nbformat_minor": 5
}
